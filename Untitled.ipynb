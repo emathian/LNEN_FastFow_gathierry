{
 "cells": [
  {
   "cell_type": "code",
   "execution_count": 1,
   "id": "177568a6",
   "metadata": {},
   "outputs": [],
   "source": [
    "import os\n",
    "import shutil"
   ]
  },
  {
   "cell_type": "code",
   "execution_count": null,
   "id": "e84f163c",
   "metadata": {},
   "outputs": [],
   "source": [
    "root_train = '/gpfsscratch/rech/ohv/ueu39kt/mvtec/carpet_color_augment/train'"
   ]
  }
 ],
 "metadata": {
  "kernelspec": {
   "display_name": "Python 3.9 (XPython)",
   "language": "python",
   "name": "xpython"
  },
  "language_info": {
   "file_extension": ".py",
   "mimetype": "text/x-python",
   "name": "python",
   "version": "3.9.5"
  }
 },
 "nbformat": 4,
 "nbformat_minor": 5
}
